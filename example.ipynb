{
 "cells": [
  {
   "cell_type": "markdown",
   "metadata": {},
   "source": [
    "# dokdo.read_quality_plot"
   ]
  },
  {
   "cell_type": "code",
   "execution_count": null,
   "metadata": {},
   "outputs": [],
   "source": [
    "import dokdo\n",
    "import matplotlib.pyplot as plt\n",
    "%matplotlib inline\n",
    "import seaborn as sns\n",
    "sns.set()\n",
    "fig, [ax1, ax2] = plt.subplots(1, 2, figsize=(10, 5))\n",
    "qzv_file = '/Users/sbslee/Desktop/dokdo/data/atacama-soil-microbiome-tutorial/demux-subsample.qzv'\n",
    "dokdo.read_quality_plot(qzv_file, strand='forward', ax=ax1)\n",
    "dokdo.read_quality_plot(qzv_file, strand='reverse', ax=ax2)\n",
    "ax1.set_title('Forward read')\n",
    "ax2.set_title('Reverse read')\n",
    "ax2.set_ylabel('')\n",
    "ax2.set_yticklabels([])\n",
    "ax2.autoscale(enable=True, axis='x', tight=False)\n",
    "plt.tight_layout()\n",
    "plt.savefig('docs/images/read_quality_plot.png')"
   ]
  },
  {
   "cell_type": "markdown",
   "metadata": {},
   "source": [
    "# dokdo.denoising_stats_plot"
   ]
  },
  {
   "cell_type": "code",
   "execution_count": null,
   "metadata": {
    "scrolled": true
   },
   "outputs": [],
   "source": [
    "import dokdo\n",
    "import matplotlib.pyplot as plt\n",
    "%matplotlib inline\n",
    "import seaborn as sns\n",
    "sns.set()\n",
    "qza_file = '/Users/sbslee/Desktop/dokdo/data/atacama-soil-microbiome-tutorial/denoising-stats.qza'\n",
    "metadata_file = '/Users/sbslee/Desktop/dokdo/data/atacama-soil-microbiome-tutorial/sample-metadata.tsv'\n",
    "dokdo.denoising_stats_plot(qza_file,\n",
    "                           metadata_file,\n",
    "                           'transect-name',\n",
    "                           figsize=(8, 6))\n",
    "plt.tight_layout()\n",
    "plt.savefig('docs/images/denoising_stats_plot.png')"
   ]
  },
  {
   "cell_type": "markdown",
   "metadata": {},
   "source": [
    "# dokdo.alpha_rarefaction_plot"
   ]
  },
  {
   "cell_type": "code",
   "execution_count": null,
   "metadata": {},
   "outputs": [],
   "source": [
    "import dokdo\n",
    "import matplotlib.pyplot as plt\n",
    "%matplotlib inline\n",
    "import seaborn as sns\n",
    "sns.set()\n",
    "qzv_file = '/Users/sbslee/Desktop/dokdo/data/moving-pictures-tutorial/alpha-rarefaction.qzv'\n",
    "ax = dokdo.alpha_rarefaction_plot(qzv_file,\n",
    "                                  figsize=(9, 6))\n",
    "ax.legend(ncol=5)\n",
    "plt.tight_layout()\n",
    "plt.savefig('docs/images/alpha_rarefaction_plot-1.png')"
   ]
  },
  {
   "cell_type": "code",
   "execution_count": null,
   "metadata": {},
   "outputs": [],
   "source": [
    "dokdo.alpha_rarefaction_plot(qzv_file,\n",
    "                             hue='body-site',\n",
    "                             metric='observed_features',\n",
    "                             figsize=(9, 6),\n",
    "                             units='sample-id',\n",
    "                             estimator=None)\n",
    "plt.tight_layout()\n",
    "plt.savefig('docs/images/alpha_rarefaction_plot-2.png')"
   ]
  },
  {
   "cell_type": "code",
   "execution_count": null,
   "metadata": {},
   "outputs": [],
   "source": [
    "dokdo.alpha_rarefaction_plot(qzv_file,\n",
    "                             hue='body-site',\n",
    "                             metric='observed_features',\n",
    "                             figsize=(9, 6))\n",
    "plt.tight_layout()\n",
    "plt.savefig('docs/images/alpha_rarefaction_plot-3.png')"
   ]
  },
  {
   "cell_type": "markdown",
   "metadata": {},
   "source": [
    "# dokdo.alpha_diversity_plot"
   ]
  },
  {
   "cell_type": "code",
   "execution_count": null,
   "metadata": {},
   "outputs": [],
   "source": [
    "import dokdo\n",
    "import matplotlib.pyplot as plt\n",
    "%matplotlib inline\n",
    "import seaborn as sns\n",
    "sns.set()\n",
    "qzv_file = '/Users/sbslee/Desktop/dokdo/data/moving-pictures-tutorial/faith_pd_vector.qza'\n",
    "metadata_file = '/Users/sbslee/Desktop/dokdo/data/moving-pictures-tutorial/sample-metadata.tsv'\n",
    "dokdo.alpha_diversity_plot(qzv_file,\n",
    "                           metadata_file,\n",
    "                           'body-site')\n",
    "plt.tight_layout()\n",
    "plt.savefig('docs/images/alpha_diversity_plot.png')"
   ]
  },
  {
   "cell_type": "markdown",
   "metadata": {},
   "source": [
    "# dokdo.beta_2d_plot"
   ]
  },
  {
   "cell_type": "code",
   "execution_count": null,
   "metadata": {},
   "outputs": [],
   "source": [
    "import dokdo\n",
    "import matplotlib.pyplot as plt\n",
    "%matplotlib inline\n",
    "import seaborn as sns\n",
    "sns.set()\n",
    "qza_file = '/Users/sbslee/Desktop/dokdo/data/moving-pictures-tutorial/unweighted_unifrac_pcoa_results.qza'\n",
    "metadata_file = '/Users/sbslee/Desktop/dokdo/data/moving-pictures-tutorial/sample-metadata.tsv'\n",
    "dokdo.beta_2d_plot(qza_file,\n",
    "                   figsize=(5, 5))\n",
    "plt.tight_layout()\n",
    "plt.savefig('docs/images/beta_2d_plot-1.png')"
   ]
  },
  {
   "cell_type": "code",
   "execution_count": null,
   "metadata": {},
   "outputs": [],
   "source": [
    "fig, [[ax1, ax2], [ax3, ax4]] = plt.subplots(2, 2, figsize=(15, 15))\n",
    "dokdo.beta_2d_plot(qza_file,\n",
    "                   metadata_file,\n",
    "                   ax=ax1,\n",
    "                   hue='body-site')\n",
    "dokdo.beta_2d_plot(qza_file,\n",
    "                   metadata_file,\n",
    "                   ax=ax2,\n",
    "                   style='subject')\n",
    "dokdo.beta_2d_plot(qza_file,\n",
    "                   metadata_file,\n",
    "                   ax=ax3,\n",
    "                   size='days-since-experiment-start')\n",
    "dokdo.beta_2d_plot(qza_file,\n",
    "                   metadata_file,\n",
    "                   ax=ax4,\n",
    "                   hue='body-site',\n",
    "                   style='subject',\n",
    "                   size='days-since-experiment-start')\n",
    "ax1.set_title(\"hue='body-site'\", fontsize=20)\n",
    "ax2.set_title(\"style='subject'\", fontsize=20)\n",
    "ax3.set_title(\"size='days-since-experiment-start'\", fontsize=20)\n",
    "ax4.set_title('Multiple groupings', fontsize=20)\n",
    "for ax in [ax1, ax2, ax3, ax4]:\n",
    "    ax.xaxis.label.set_size(20)\n",
    "    ax.yaxis.label.set_size(20)\n",
    "    ax.tick_params(axis='both', which='major', labelsize=15)\n",
    "    ax.legend(loc='upper left')\n",
    "plt.tight_layout()\n",
    "plt.savefig('docs/images/beta_2d_plot-2.png')"
   ]
  },
  {
   "cell_type": "markdown",
   "metadata": {},
   "source": [
    "# dokdo.beta_3d_plot"
   ]
  },
  {
   "cell_type": "code",
   "execution_count": null,
   "metadata": {},
   "outputs": [],
   "source": [
    "import dokdo\n",
    "import matplotlib.pyplot as plt\n",
    "%matplotlib inline\n",
    "import seaborn as sns\n",
    "sns.set()\n",
    "qza_file = '/Users/sbslee/Desktop/dokdo/data/moving-pictures-tutorial/unweighted_unifrac_pcoa_results.qza'\n",
    "metadata_file = '/Users/sbslee/Desktop/dokdo/data/moving-pictures-tutorial/sample-metadata.tsv'\n",
    "dokdo.beta_3d_plot(qza_file,\n",
    "                   metadata_file,\n",
    "                   'body-site',\n",
    "                   figsize=(8, 8))\n",
    "plt.tight_layout()\n",
    "plt.savefig('docs/images/beta_3d_plot-1.png')"
   ]
  },
  {
   "cell_type": "code",
   "execution_count": null,
   "metadata": {},
   "outputs": [],
   "source": [
    "fig = plt.figure(figsize=(14, 7))\n",
    "ax1 = fig.add_subplot(1, 2, 1, projection='3d')\n",
    "ax2 = fig.add_subplot(1, 2, 2, projection='3d')\n",
    "dokdo.beta_3d_plot(qza_file,\n",
    "                   metadata_file,\n",
    "                   ax=ax1,\n",
    "                   hue='body-site',\n",
    "                   elev=15)\n",
    "dokdo.beta_3d_plot(qza_file,\n",
    "                   metadata_file,\n",
    "                   ax=ax2,\n",
    "                   hue='body-site',\n",
    "                   azim=70)\n",
    "plt.tight_layout()\n",
    "plt.savefig('docs/images/beta_3d_plot-2.png')"
   ]
  },
  {
   "cell_type": "markdown",
   "metadata": {},
   "source": [
    "# dokdo.beta_scree_plot"
   ]
  },
  {
   "cell_type": "code",
   "execution_count": null,
   "metadata": {},
   "outputs": [],
   "source": [
    "import dokdo\n",
    "import matplotlib.pyplot as plt\n",
    "%matplotlib inline\n",
    "import seaborn as sns\n",
    "sns.set()\n",
    "qza_file = '/Users/sbslee/Desktop/dokdo/data/moving-pictures-tutorial/unweighted_unifrac_pcoa_results.qza'\n",
    "dokdo.beta_scree_plot(qza_file)\n",
    "plt.tight_layout()\n",
    "plt.savefig('docs/images/beta_scree_plot.png')"
   ]
  },
  {
   "cell_type": "markdown",
   "metadata": {},
   "source": [
    "# dokdo.beta_parallel_plot"
   ]
  },
  {
   "cell_type": "code",
   "execution_count": null,
   "metadata": {},
   "outputs": [],
   "source": [
    "import dokdo\n",
    "import matplotlib.pyplot as plt\n",
    "%matplotlib inline\n",
    "import seaborn as sns\n",
    "sns.set()\n",
    "qza_file = '/Users/sbslee/Desktop/dokdo/data/moving-pictures-tutorial/unweighted_unifrac_pcoa_results.qza'\n",
    "metadata_file = '/Users/sbslee/Desktop/dokdo/data/moving-pictures-tutorial/sample-metadata.tsv'\n",
    "dokdo.beta_parallel_plot(qza_file,\n",
    "                         figsize=(8, 6))\n",
    "plt.tight_layout()\n",
    "plt.savefig('docs/images/beta_parallel_plot-1.png')"
   ]
  },
  {
   "cell_type": "code",
   "execution_count": null,
   "metadata": {},
   "outputs": [],
   "source": [
    "dokdo.beta_parallel_plot(qza_file,\n",
    "                         metadata=metadata_file,\n",
    "                         hue='body-site',\n",
    "                         figsize=(8, 6))\n",
    "plt.tight_layout()\n",
    "plt.savefig('docs/images/beta_parallel_plot-2.png')"
   ]
  },
  {
   "cell_type": "markdown",
   "metadata": {},
   "source": [
    "# dokdo.distance_matrix_plot"
   ]
  },
  {
   "cell_type": "code",
   "execution_count": null,
   "metadata": {},
   "outputs": [],
   "source": [
    "import dokdo\n",
    "import matplotlib.pyplot as plt\n",
    "%matplotlib inline\n",
    "import seaborn as sns\n",
    "sns.set()\n",
    "qza_file = '/Users/sbslee/Desktop/dokdo/data/moving-pictures-tutorial/unweighted_unifrac_distance_matrix.qza'\n",
    "dokdo.distance_matrix_plot(qza_file)\n",
    "plt.tight_layout()\n",
    "plt.savefig('docs/images/distance_matrix_plot-1.png')"
   ]
  },
  {
   "cell_type": "code",
   "execution_count": null,
   "metadata": {},
   "outputs": [],
   "source": [
    "dokdo.distance_matrix_plot(qza_file,\n",
    "                           pairs=[['L1S8', 'L1S57'],\n",
    "                                  ['L2S175', 'L2S204']])\n",
    "plt.tight_layout()\n",
    "plt.savefig('docs/images/distance_matrix_plot-2.png')"
   ]
  },
  {
   "cell_type": "code",
   "execution_count": null,
   "metadata": {},
   "outputs": [],
   "source": [
    "dokdo.distance_matrix_plot(qza_file, density=True)\n",
    "plt.tight_layout()\n",
    "plt.savefig('docs/images/distance_matrix_plot-3.png')"
   ]
  },
  {
   "cell_type": "markdown",
   "metadata": {},
   "source": [
    "# dokdo.taxa_abundance_bar_plot"
   ]
  },
  {
   "cell_type": "code",
   "execution_count": null,
   "metadata": {},
   "outputs": [],
   "source": [
    "import dokdo\n",
    "import matplotlib.pyplot as plt\n",
    "%matplotlib inline\n",
    "import seaborn as sns\n",
    "sns.set()\n",
    "qzv_file = '/Users/sbslee/Desktop/dokdo/data/moving-pictures-tutorial/taxa-bar-plots.qzv'\n",
    "dokdo.taxa_abundance_bar_plot(qzv_file,\n",
    "                              figsize=(10, 7),\n",
    "                              artist_kwargs=dict(show_legend=True))\n",
    "plt.tight_layout()\n",
    "plt.savefig('docs/images/taxa_abundance_bar_plot-1.png')"
   ]
  },
  {
   "cell_type": "code",
   "execution_count": null,
   "metadata": {},
   "outputs": [],
   "source": [
    "dokdo.taxa_abundance_bar_plot(qzv_file,\n",
    "                              figsize=(10, 7),\n",
    "                              level=6)\n",
    "plt.tight_layout()\n",
    "plt.savefig('docs/images/taxa_abundance_bar_plot-2.png')"
   ]
  },
  {
   "cell_type": "code",
   "execution_count": null,
   "metadata": {},
   "outputs": [],
   "source": [
    "dokdo.taxa_abundance_bar_plot(qzv_file,\n",
    "                              figsize=(10, 7),\n",
    "                              level=6,\n",
    "                              count=8,\n",
    "                              legend_short=True,\n",
    "                              artist_kwargs=dict(show_legend=True,\n",
    "                                                 legend_loc='upper left'))\n",
    "plt.tight_layout()\n",
    "plt.savefig('docs/images/taxa_abundance_bar_plot-3.png')"
   ]
  },
  {
   "cell_type": "code",
   "execution_count": null,
   "metadata": {},
   "outputs": [],
   "source": [
    "fig, [ax1, ax2] = plt.subplots(1, 2, figsize=(12, 7), gridspec_kw={'width_ratios': [9, 1]})\n",
    "dokdo.taxa_abundance_bar_plot(qzv_file,\n",
    "                              ax=ax1,\n",
    "                              level=6,\n",
    "                              count=8)\n",
    "dokdo.taxa_abundance_bar_plot(qzv_file,\n",
    "                              ax=ax2,\n",
    "                              level=6,\n",
    "                              count=8,\n",
    "                              legend_short=True,\n",
    "                              artist_kwargs=dict(legend_only=True,\n",
    "                                                 legend_loc='upper left'))\n",
    "plt.tight_layout()\n",
    "plt.savefig('docs/images/taxa_abundance_bar_plot-4.png')"
   ]
  },
  {
   "cell_type": "code",
   "execution_count": null,
   "metadata": {},
   "outputs": [],
   "source": [
    "fig, [ax1, ax2] = plt.subplots(1, 2, figsize=(12, 7), gridspec_kw={'width_ratios': [9, 1]})\n",
    "dokdo.taxa_abundance_bar_plot(qzv_file,\n",
    "                              ax=ax1,\n",
    "                              level=6,\n",
    "                              count=20,\n",
    "                              cmap_name='tab20')\n",
    "dokdo.taxa_abundance_bar_plot(qzv_file,\n",
    "                              ax=ax2,\n",
    "                              level=6,\n",
    "                              count=20,\n",
    "                              cmap_name='tab20',\n",
    "                              legend_short=True,\n",
    "                              artist_kwargs=dict(legend_only=True,\n",
    "                                                 legend_loc='upper left'))\n",
    "plt.tight_layout()\n",
    "plt.savefig('docs/images/taxa_abundance_bar_plot-5.png')"
   ]
  },
  {
   "cell_type": "code",
   "execution_count": null,
   "metadata": {},
   "outputs": [],
   "source": [
    "dokdo.taxa_abundance_bar_plot(qzv_file,\n",
    "                              by=['body-site'],\n",
    "                              label_columns=['body-site', 'sample-id'],\n",
    "                              figsize=(10, 7),\n",
    "                              level=6,\n",
    "                              count=8,\n",
    "                              legend_short=True,\n",
    "                              artist_kwargs=dict(show_legend=True,\n",
    "                                                 legend_loc='upper left'))\n",
    "plt.tight_layout()\n",
    "plt.savefig('docs/images/taxa_abundance_bar_plot-6.png')"
   ]
  },
  {
   "cell_type": "code",
   "execution_count": null,
   "metadata": {},
   "outputs": [],
   "source": [
    "dokdo.taxa_abundance_bar_plot(qzv_file,\n",
    "                              by=['body-site'],\n",
    "                              label_columns=['body-site', 'sample-id'],\n",
    "                              figsize=(10, 7),\n",
    "                              level=6,\n",
    "                              count=8,\n",
    "                              orders={'body-site': ['left palm', 'tongue', 'gut', 'right palm']},\n",
    "                              legend_short=True,\n",
    "                              artist_kwargs=dict(show_legend=True,\n",
    "                                                 legend_loc='upper left'))\n",
    "plt.tight_layout()\n",
    "plt.savefig('docs/images/taxa_abundance_bar_plot-7.png')"
   ]
  },
  {
   "cell_type": "code",
   "execution_count": null,
   "metadata": {},
   "outputs": [],
   "source": [
    "fig, [ax1, ax2] = plt.subplots(1, 2, figsize=(9, 7), gridspec_kw={'width_ratios': [9, 1]})\n",
    "kwargs = dict(include_samples={'body-site': ['gut', 'tongue']},\n",
    "                by=['body-site'],\n",
    "                label_columns=['body-site', 'sample-id'],\n",
    "                level=6,\n",
    "                count=8)\n",
    "dokdo.taxa_abundance_bar_plot(qzv_file,\n",
    "                              ax=ax1,\n",
    "                              **kwargs)\n",
    "dokdo.taxa_abundance_bar_plot(qzv_file,\n",
    "                              ax=ax2,\n",
    "                              **kwargs,\n",
    "                              legend_short=True,\n",
    "                              artist_kwargs=dict(legend_only=True,\n",
    "                                                 legend_loc='upper left'))\n",
    "plt.tight_layout()\n",
    "plt.savefig('docs/images/taxa_abundance_bar_plot-8.png')"
   ]
  },
  {
   "cell_type": "code",
   "execution_count": null,
   "metadata": {},
   "outputs": [],
   "source": [
    "fig, [ax1, ax2, ax3, ax4, ax5] = plt.subplots(1, 5, figsize=(16, 7), gridspec_kw={'width_ratios': [2, 2, 2, 2, 1]})\n",
    "kwargs = dict(level=6, count=8, sort_by_mean2=False)\n",
    "dokdo.taxa_abundance_bar_plot(qzv_file,\n",
    "                              ax=ax1,\n",
    "                              include_samples={'body-site': ['gut']},\n",
    "                              **kwargs,\n",
    "                              artist_kwargs=dict(title='gut'))\n",
    "dokdo.taxa_abundance_bar_plot(qzv_file,\n",
    "                              ax=ax2,\n",
    "                              include_samples={'body-site': ['left palm']},\n",
    "                              **kwargs,\n",
    "                              artist_kwargs=dict(title='left palm',\n",
    "                                                 hide_ylabel=True,\n",
    "                                                 hide_yticks=True))\n",
    "dokdo.taxa_abundance_bar_plot(qzv_file,\n",
    "                              ax=ax3,\n",
    "                              include_samples={'body-site': ['right palm']},\n",
    "                              **kwargs,\n",
    "                              artist_kwargs=dict(title='right palm',\n",
    "                                                 hide_ylabel=True,\n",
    "                                                 hide_yticks=True))\n",
    "dokdo.taxa_abundance_bar_plot(qzv_file,\n",
    "                              ax=ax4,\n",
    "                              include_samples={'body-site': ['tongue']},\n",
    "                              **kwargs,\n",
    "                              artist_kwargs=dict(title='tongue',\n",
    "                                                 hide_ylabel=True,\n",
    "                                                 hide_yticks=True))\n",
    "dokdo.taxa_abundance_bar_plot(qzv_file,\n",
    "                              ax=ax5,\n",
    "                              **kwargs,\n",
    "                              legend_short=True,\n",
    "                              artist_kwargs=dict(legend_only=True,\n",
    "                                                 legend_loc='upper left'))\n",
    "plt.tight_layout()\n",
    "plt.savefig('docs/images/taxa_abundance_bar_plot-9.png')"
   ]
  },
  {
   "cell_type": "code",
   "execution_count": null,
   "metadata": {},
   "outputs": [],
   "source": [
    "fig, [ax1, ax2, ax3] = plt.subplots(1, 3, figsize=(10, 5))\n",
    "kwargs = dict(level=6, count=3, legend_short=True, sample_names=['L2S382', 'L4S112'])\n",
    "dokdo.taxa_abundance_bar_plot(qzv_file,\n",
    "                              ax=ax1,\n",
    "                              **kwargs,\n",
    "                              artist_kwargs=dict(show_legend=True,\n",
    "                                                 legend_loc='upper right',\n",
    "                                                 title=\"sample_names=['L2S382', 'L4S112']\"))\n",
    "dokdo.taxa_abundance_bar_plot(qzv_file,\n",
    "                              ax=ax2,\n",
    "                              **kwargs,\n",
    "                              artist_kwargs=dict(show_legend=True,\n",
    "                                                 legend_loc='upper right',\n",
    "                                                 title=\"xticklabels=['A', 'B']\",\n",
    "                                                 xticklabels=['A', 'B']))\n",
    "dokdo.taxa_abundance_bar_plot(qzv_file,\n",
    "                              ax=ax3,\n",
    "                              colors=['tab:blue', 'tab:orange', 'tab:gray'],\n",
    "                              **kwargs,\n",
    "                              artist_kwargs=dict(show_legend=True,\n",
    "                                                 legend_loc='upper right',\n",
    "                                                 title=\"colors=['tab:blue', 'tab:orange', 'tab:gray']\"))\n",
    "plt.tight_layout()\n",
    "plt.savefig('docs/images/taxa_abundance_bar_plot-10.png')"
   ]
  },
  {
   "cell_type": "code",
   "execution_count": null,
   "metadata": {},
   "outputs": [],
   "source": [
    "dokdo.taxa_abundance_bar_plot(qzv_file,\n",
    "                              level=6,\n",
    "                              count=8,\n",
    "                              group='body-site',\n",
    "                              figsize=(10, 7),\n",
    "                              legend_short=True,\n",
    "                              artist_kwargs=dict(show_legend=True))\n",
    "plt.tight_layout()\n",
    "plt.savefig('docs/images/taxa_abundance_bar_plot-11.png')"
   ]
  },
  {
   "cell_type": "code",
   "execution_count": null,
   "metadata": {},
   "outputs": [],
   "source": [
    "dokdo.taxa_abundance_bar_plot(qzv_file,\n",
    "                              level=6,\n",
    "                              count=8,\n",
    "                              group='body-site',\n",
    "                              group_order=['tongue', 'left palm'],\n",
    "                              figsize=(10, 7),\n",
    "                              legend_short=True,\n",
    "                              artist_kwargs=dict(show_legend=True))\n",
    "plt.tight_layout()\n",
    "plt.savefig('docs/images/taxa_abundance_bar_plot-12.png')"
   ]
  },
  {
   "cell_type": "code",
   "execution_count": null,
   "metadata": {},
   "outputs": [],
   "source": [
    "import pandas as pd\n",
    "qzv_file = '/Users/sbslee/Desktop/dokdo/data/miscellaneous/level-6.csv'\n",
    "df = pd.read_csv(qzv_file, index_col=0)\n",
    "dokdo.taxa_abundance_bar_plot(df,\n",
    "                              figsize=(10, 7),\n",
    "                              count=8,\n",
    "                              legend_short=True,\n",
    "                              artist_kwargs=dict(show_legend=True,\n",
    "                                                 legend_loc='upper left'))\n",
    "plt.tight_layout()\n",
    "plt.savefig('docs/images/taxa_abundance_bar_plot-13.png')"
   ]
  },
  {
   "cell_type": "markdown",
   "metadata": {},
   "source": [
    "# dokdo.taxa_abundance_box_plot"
   ]
  },
  {
   "cell_type": "code",
   "execution_count": null,
   "metadata": {},
   "outputs": [],
   "source": [
    "import dokdo\n",
    "import matplotlib.pyplot as plt\n",
    "%matplotlib inline\n",
    "import seaborn as sns\n",
    "sns.set()\n",
    "qzv_file = '/Users/sbslee/Desktop/dokdo/data/moving-pictures-tutorial/taxa-bar-plots.qzv'\n",
    "dokdo.taxa_abundance_box_plot(qzv_file,\n",
    "                              level=2,\n",
    "                              figsize=(8, 7))\n",
    "plt.tight_layout()\n",
    "plt.savefig('docs/images/taxa_abundance_box_plot-1.png')"
   ]
  },
  {
   "cell_type": "code",
   "execution_count": null,
   "metadata": {},
   "outputs": [],
   "source": [
    "fig, [[ax1, ax2], [ax3, ax4]] = plt.subplots(2, 2, figsize=(10, 10))\n",
    "kwargs = {'level' : 2}\n",
    "artist_kwargs1 = dict(title='count=4')\n",
    "artist_kwargs2 = dict(title='brief_xlabels=True')\n",
    "artist_kwargs3 = dict(xticklabels=['A', 'B', 'C', 'D'], title=\"xticklabels=['A', 'B', 'C', 'D']\")\n",
    "artist_kwargs4 = dict(title=\"taxa_names=[...]\")\n",
    "dokdo.taxa_abundance_box_plot(qzv_file,\n",
    "                              ax=ax1,\n",
    "                              count=4,\n",
    "                              artist_kwargs=artist_kwargs1, **kwargs)\n",
    "dokdo.taxa_abundance_box_plot(qzv_file,\n",
    "                              ax=ax2,\n",
    "                              count=4,\n",
    "                              brief_xlabels=True,\n",
    "                              artist_kwargs=artist_kwargs2, **kwargs)\n",
    "dokdo.taxa_abundance_box_plot(qzv_file,\n",
    "                              ax=ax3,\n",
    "                              count=4,\n",
    "                              artist_kwargs=artist_kwargs3, **kwargs)\n",
    "dokdo.taxa_abundance_box_plot(qzv_file,\n",
    "                              ax=ax4,\n",
    "                              taxa_names=['k__Bacteria;p__Firmicutes', 'k__Bacteria;p__Proteobacteria'],\n",
    "                              artist_kwargs=artist_kwargs4, **kwargs)\n",
    "plt.tight_layout()"
   ]
  },
  {
   "cell_type": "code",
   "execution_count": null,
   "metadata": {},
   "outputs": [],
   "source": []
  }
 ],
 "metadata": {
  "kernelspec": {
   "display_name": "Python 3",
   "language": "python",
   "name": "python3"
  },
  "language_info": {
   "codemirror_mode": {
    "name": "ipython",
    "version": 3
   },
   "file_extension": ".py",
   "mimetype": "text/x-python",
   "name": "python",
   "nbconvert_exporter": "python",
   "pygments_lexer": "ipython3",
   "version": "3.6.11"
  }
 },
 "nbformat": 4,
 "nbformat_minor": 4
}
