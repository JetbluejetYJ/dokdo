{
 "cells": [
  {
   "cell_type": "markdown",
   "metadata": {},
   "source": [
    "# dokdo.read_quality_plot"
   ]
  },
  {
   "cell_type": "code",
   "execution_count": null,
   "metadata": {},
   "outputs": [],
   "source": [
    "import dokdo\n",
    "import matplotlib.pyplot as plt\n",
    "%matplotlib inline\n",
    "import seaborn as sns\n",
    "sns.set()\n",
    "fig, [ax1, ax2] = plt.subplots(1, 2, figsize=(10, 5))\n",
    "qzv_file = '/Users/sbslee/Desktop/dokdo/data/atacama-soil-microbiome-tutorial/demux-subsample.qzv'\n",
    "dokdo.read_quality_plot(qzv_file, strand='forward', ax=ax1)\n",
    "dokdo.read_quality_plot(qzv_file, strand='reverse', ax=ax2)\n",
    "ax1.set_title('Forward read')\n",
    "ax2.set_title('Reverse read')\n",
    "ax2.set_ylabel('')\n",
    "ax2.set_yticklabels([])\n",
    "ax2.autoscale(enable=True, axis='x', tight=False)\n",
    "plt.tight_layout()"
   ]
  },
  {
   "cell_type": "markdown",
   "metadata": {},
   "source": [
    "# dokdo.denoising_stats_plot"
   ]
  },
  {
   "cell_type": "code",
   "execution_count": null,
   "metadata": {},
   "outputs": [],
   "source": [
    "import dokdo\n",
    "import matplotlib.pyplot as plt\n",
    "%matplotlib inline\n",
    "import seaborn as sns\n",
    "sns.set()\n",
    "qza_file = '/Users/sbslee/Desktop/dokdo/data/atacama-soil-microbiome-tutorial/denoising-stats.qza'\n",
    "metadata_file = '/Users/sbslee/Desktop/dokdo/data/atacama-soil-microbiome-tutorial/sample-metadata.tsv'\n",
    "dokdo.denoising_stats_plot(qza_file,\n",
    "                           metadata_file,\n",
    "                           'transect-name',\n",
    "                           artist_kwargs=dict(show_legend=True))\n",
    "plt.tight_layout()"
   ]
  },
  {
   "cell_type": "markdown",
   "metadata": {},
   "source": [
    "# dokdo.alpha_rarefaction_plot"
   ]
  },
  {
   "cell_type": "code",
   "execution_count": null,
   "metadata": {},
   "outputs": [],
   "source": [
    "import dokdo\n",
    "import matplotlib.pyplot as plt\n",
    "%matplotlib inline\n",
    "import seaborn as sns\n",
    "sns.set()\n",
    "qzv_file = '/Users/sbslee/Desktop/dokdo/data/moving-pictures-tutorial/alpha-rarefaction.qzv'\n",
    "artist_kwargs = dict(show_legend=True, legend_ncol=5)\n",
    "dokdo.alpha_rarefaction_plot(qzv_file,\n",
    "                             figsize=(8, 5),\n",
    "                             artist_kwargs=artist_kwargs)\n",
    "plt.tight_layout()"
   ]
  },
  {
   "cell_type": "code",
   "execution_count": null,
   "metadata": {},
   "outputs": [],
   "source": [
    "artist_kwargs = dict(show_legend=True)\n",
    "dokdo.alpha_rarefaction_plot(qzv_file,\n",
    "                             hue='body-site',\n",
    "                             metric='observed_features',\n",
    "                             figsize=(8, 5),\n",
    "                             units='sample-id',\n",
    "                             estimator=None,\n",
    "                             artist_kwargs=artist_kwargs)\n",
    "plt.tight_layout()"
   ]
  },
  {
   "cell_type": "code",
   "execution_count": null,
   "metadata": {},
   "outputs": [],
   "source": [
    "artist_kwargs = dict(show_legend=True)\n",
    "dokdo.alpha_rarefaction_plot(qzv_file,\n",
    "                             hue='body-site',\n",
    "                             metric='observed_features',\n",
    "                             figsize=(8, 5),\n",
    "                             artist_kwargs=artist_kwargs)\n",
    "plt.tight_layout()"
   ]
  },
  {
   "cell_type": "markdown",
   "metadata": {},
   "source": [
    "# dokdo.alpha_diversity_plot"
   ]
  },
  {
   "cell_type": "code",
   "execution_count": null,
   "metadata": {},
   "outputs": [],
   "source": [
    "import dokdo\n",
    "import matplotlib.pyplot as plt\n",
    "%matplotlib inline\n",
    "import seaborn as sns\n",
    "sns.set()\n",
    "qzv_file = '/Users/sbslee/Desktop/dokdo/data/moving-pictures-tutorial/faith_pd_vector.qza'\n",
    "metadata_file = '/Users/sbslee/Desktop/dokdo/data/moving-pictures-tutorial/sample-metadata.tsv'\n",
    "dokdo.alpha_diversity_plot(qzv_file, metadata_file, 'body-site')\n",
    "plt.tight_layout()"
   ]
  },
  {
   "cell_type": "markdown",
   "metadata": {},
   "source": [
    "# dokdo.beta_2d_plot"
   ]
  },
  {
   "cell_type": "code",
   "execution_count": null,
   "metadata": {},
   "outputs": [],
   "source": [
    "import dokdo\n",
    "import matplotlib.pyplot as plt\n",
    "%matplotlib inline\n",
    "import seaborn as sns\n",
    "sns.set()\n",
    "qza_file = '/Users/sbslee/Desktop/dokdo/data/moving-pictures-tutorial/unweighted_unifrac_pcoa_results.qza'\n",
    "metadata_file = '/Users/sbslee/Desktop/dokdo/data/moving-pictures-tutorial/sample-metadata.tsv'\n",
    "dokdo.beta_2d_plot(qza_file)\n",
    "plt.tight_layout()"
   ]
  },
  {
   "cell_type": "code",
   "execution_count": null,
   "metadata": {},
   "outputs": [],
   "source": [
    "fig, [[ax1, ax2], [ax3, ax4]] = plt.subplots(2, 2, figsize=(8, 8))\n",
    "artist_kwargs1 = dict(show_legend=True, title=\"hue='body-site'\")\n",
    "artist_kwargs2 = dict(show_legend=True, title=\"style='subject'\")\n",
    "artist_kwargs3 = dict(show_legend=True, title=\"size='days-since-experiment-start'\")\n",
    "artist_kwargs4 = dict(title=\"Combined groupings\")\n",
    "dokdo.beta_2d_plot(qza_file, metadata_file, ax=ax1, hue='body-site', artist_kwargs=artist_kwargs1)\n",
    "dokdo.beta_2d_plot(qza_file, metadata_file, ax=ax2, style='subject', artist_kwargs=artist_kwargs2)\n",
    "dokdo.beta_2d_plot(qza_file, metadata_file, ax=ax3, size='days-since-experiment-start', artist_kwargs=artist_kwargs3)\n",
    "dokdo.beta_2d_plot(qza_file, metadata_file, ax=ax4, hue='body-site', style='subject', size='days-since-experiment-start', artist_kwargs=artist_kwargs4)\n",
    "plt.tight_layout()"
   ]
  },
  {
   "cell_type": "markdown",
   "metadata": {},
   "source": [
    "# dokdo.taxa_abundance_bar_plot"
   ]
  },
  {
   "cell_type": "code",
   "execution_count": null,
   "metadata": {},
   "outputs": [],
   "source": [
    "import dokdo\n",
    "import matplotlib.pyplot as plt\n",
    "%matplotlib inline\n",
    "import seaborn as sns\n",
    "sns.set()\n",
    "qzv_file = '/Users/sbslee/Desktop/dokdo/data/moving-pictures-tutorial/taxa-bar-plots.qzv'\n",
    "dokdo.taxa_abundance_bar_plot(qzv_file,\n",
    "                              figsize=(10, 7),\n",
    "                              artist_kwargs=dict(show_legend=True))\n",
    "plt.tight_layout()"
   ]
  },
  {
   "cell_type": "code",
   "execution_count": null,
   "metadata": {},
   "outputs": [],
   "source": [
    "dokdo.taxa_abundance_bar_plot(qzv_file,\n",
    "                              figsize=(10, 7),\n",
    "                              level=6)\n",
    "plt.tight_layout()"
   ]
  },
  {
   "cell_type": "code",
   "execution_count": null,
   "metadata": {},
   "outputs": [],
   "source": [
    "dokdo.taxa_abundance_bar_plot(qzv_file,\n",
    "                              figsize=(10, 7),\n",
    "                              level=6,\n",
    "                              count=8,\n",
    "                              legend_short=True,\n",
    "                              artist_kwargs=dict(show_legend=True,\n",
    "                                                 legend_loc='upper left'))\n",
    "plt.tight_layout()"
   ]
  },
  {
   "cell_type": "code",
   "execution_count": null,
   "metadata": {},
   "outputs": [],
   "source": [
    "fig, [ax1, ax2] = plt.subplots(1, 2, figsize=(12, 7), gridspec_kw={'width_ratios': [9, 1]})\n",
    "dokdo.taxa_abundance_bar_plot(qzv_file,\n",
    "                              ax=ax1,\n",
    "                              level=6,\n",
    "                              count=8)\n",
    "dokdo.taxa_abundance_bar_plot(qzv_file,\n",
    "                              ax=ax2,\n",
    "                              level=6,\n",
    "                              count=8,\n",
    "                              legend_short=True,\n",
    "                              artist_kwargs=dict(legend_only=True,\n",
    "                                                 legend_loc='upper left'))\n",
    "plt.tight_layout()"
   ]
  },
  {
   "cell_type": "code",
   "execution_count": null,
   "metadata": {},
   "outputs": [],
   "source": [
    "fig, [ax1, ax2] = plt.subplots(1, 2, figsize=(12, 7), gridspec_kw={'width_ratios': [9, 1]})\n",
    "dokdo.taxa_abundance_bar_plot(qzv_file,\n",
    "                              ax=ax1,\n",
    "                              level=6,\n",
    "                              count=20,\n",
    "                              cmap_name='tab20')\n",
    "dokdo.taxa_abundance_bar_plot(qzv_file,\n",
    "                              ax=ax2,\n",
    "                              level=6,\n",
    "                              count=20,\n",
    "                              cmap_name='tab20',\n",
    "                              legend_short=True,\n",
    "                              artist_kwargs=dict(legend_only=True,\n",
    "                                                 legend_loc='upper left'))\n",
    "plt.tight_layout()"
   ]
  },
  {
   "cell_type": "code",
   "execution_count": null,
   "metadata": {},
   "outputs": [],
   "source": [
    "dokdo.taxa_abundance_bar_plot(qzv_file,\n",
    "                              by=['body-site'],\n",
    "                              label_columns=['body-site', 'sample-id'],\n",
    "                              figsize=(10, 7),\n",
    "                              level=6,\n",
    "                              count=8,\n",
    "                              legend_short=True,\n",
    "                              artist_kwargs=dict(show_legend=True,\n",
    "                                                 legend_loc='upper left'))\n",
    "plt.tight_layout()"
   ]
  },
  {
   "cell_type": "code",
   "execution_count": null,
   "metadata": {},
   "outputs": [],
   "source": [
    "dokdo.taxa_abundance_bar_plot(qzv_file,\n",
    "                              by=['body-site'],\n",
    "                              label_columns=['body-site', 'sample-id'],\n",
    "                              figsize=(10, 7),\n",
    "                              level=6,\n",
    "                              count=8,\n",
    "                              orders={'body-site': ['left palm', 'tongue', 'gut', 'right palm']},\n",
    "                              legend_short=True,\n",
    "                              artist_kwargs=dict(show_legend=True,\n",
    "                                                 legend_loc='upper left'))\n",
    "plt.tight_layout()\n"
   ]
  },
  {
   "cell_type": "code",
   "execution_count": null,
   "metadata": {},
   "outputs": [],
   "source": [
    "fig, [ax1, ax2] = plt.subplots(1, 2, figsize=(9, 7), gridspec_kw={'width_ratios': [9, 1]})\n",
    "kwargs = dict(include_samples={'body-site': ['gut', 'tongue']},\n",
    "                by=['body-site'],\n",
    "                label_columns=['body-site', 'sample-id'],\n",
    "                level=6,\n",
    "                count=8)\n",
    "dokdo.taxa_abundance_bar_plot(qzv_file,\n",
    "                              ax=ax1,\n",
    "                              **kwargs)\n",
    "dokdo.taxa_abundance_bar_plot(qzv_file,\n",
    "                              ax=ax2,\n",
    "                              **kwargs,\n",
    "                              legend_short=True,\n",
    "                              artist_kwargs=dict(legend_only=True,\n",
    "                                                 legend_loc='upper left'))\n",
    "plt.tight_layout()"
   ]
  },
  {
   "cell_type": "code",
   "execution_count": null,
   "metadata": {},
   "outputs": [],
   "source": [
    "fig, [ax1, ax2, ax3, ax4, ax5] = plt.subplots(1, 5, figsize=(16, 7), gridspec_kw={'width_ratios': [2, 2, 2, 2, 1]})\n",
    "kwargs = dict(level=6, count=8, sort_by_mean2=False)\n",
    "dokdo.taxa_abundance_bar_plot(qzv_file,\n",
    "                              ax=ax1,\n",
    "                              include_samples={'body-site': ['gut']},\n",
    "                              **kwargs,\n",
    "                              artist_kwargs=dict(title='gut'))\n",
    "dokdo.taxa_abundance_bar_plot(qzv_file,\n",
    "                              ax=ax2,\n",
    "                              include_samples={'body-site': ['left palm']},\n",
    "                              **kwargs,\n",
    "                              artist_kwargs=dict(title='left palm',\n",
    "                                                 hide_ylabel=True,\n",
    "                                                 hide_yticks=True))\n",
    "dokdo.taxa_abundance_bar_plot(qzv_file,\n",
    "                              ax=ax3,\n",
    "                              include_samples={'body-site': ['right palm']},\n",
    "                              **kwargs,\n",
    "                              artist_kwargs=dict(title='right palm',\n",
    "                                                 hide_ylabel=True,\n",
    "                                                 hide_yticks=True))\n",
    "dokdo.taxa_abundance_bar_plot(qzv_file,\n",
    "                              ax=ax4,\n",
    "                              include_samples={'body-site': ['tongue']},\n",
    "                              **kwargs,\n",
    "                              artist_kwargs=dict(title='tongue',\n",
    "                                                 hide_ylabel=True,\n",
    "                                                 hide_yticks=True))\n",
    "dokdo.taxa_abundance_bar_plot(qzv_file,\n",
    "                              ax=ax5,\n",
    "                              **kwargs,\n",
    "                              legend_short=True,\n",
    "                              artist_kwargs=dict(legend_only=True,\n",
    "                                                 legend_loc='upper left'))\n",
    "plt.tight_layout()"
   ]
  },
  {
   "cell_type": "code",
   "execution_count": null,
   "metadata": {},
   "outputs": [],
   "source": [
    "fig, [ax1, ax2, ax3] = plt.subplots(1, 3, figsize=(10, 5))\n",
    "kwargs = dict(level=6, count=3, legend_short=True, sample_names=['L2S382', 'L4S112'])\n",
    "dokdo.taxa_abundance_bar_plot(qzv_file,\n",
    "                              ax=ax1,\n",
    "                              **kwargs,\n",
    "                              artist_kwargs=dict(show_legend=True,\n",
    "                                                 legend_loc='upper right',\n",
    "                                                 title=\"sample_names=['L2S382', 'L4S112']\"))\n",
    "dokdo.taxa_abundance_bar_plot(qzv_file,\n",
    "                              ax=ax2,\n",
    "                              **kwargs,\n",
    "                              artist_kwargs=dict(show_legend=True,\n",
    "                                                 legend_loc='upper right',\n",
    "                                                 title=\"xticklabels=['A', 'B']\",\n",
    "                                                 xticklabels=['A', 'B']))\n",
    "dokdo.taxa_abundance_bar_plot(qzv_file,\n",
    "                              ax=ax3,\n",
    "                              colors=['tab:blue', 'tab:orange', 'tab:gray'],\n",
    "                              **kwargs,\n",
    "                              artist_kwargs=dict(show_legend=True,\n",
    "                                                 legend_loc='upper right',\n",
    "                                                 title=\"colors=['tab:blue', 'tab:orange', 'tab:gray']\"))\n",
    "plt.tight_layout()\n"
   ]
  },
  {
   "cell_type": "code",
   "execution_count": null,
   "metadata": {},
   "outputs": [],
   "source": [
    "dokdo.taxa_abundance_bar_plot(qzv_file,\n",
    "                              level=6,\n",
    "                              count=8,\n",
    "                              group='body-site',\n",
    "                              figsize=(10, 7),\n",
    "                              legend_short=True,\n",
    "                              artist_kwargs=dict(show_legend=True))\n",
    "plt.tight_layout()"
   ]
  },
  {
   "cell_type": "code",
   "execution_count": null,
   "metadata": {},
   "outputs": [],
   "source": [
    "dokdo.taxa_abundance_bar_plot(qzv_file,\n",
    "                              level=6,\n",
    "                              count=8,\n",
    "                              group='body-site',\n",
    "                              group_order=['tongue', 'left palm'],\n",
    "                              figsize=(10, 7),\n",
    "                              legend_short=True,\n",
    "                              artist_kwargs=dict(show_legend=True))\n",
    "plt.tight_layout()"
   ]
  },
  {
   "cell_type": "code",
   "execution_count": 3,
   "metadata": {},
   "outputs": [],
   "source": [
    "import pandas as pd\n",
    "import dokdo\n",
    "import matplotlib.pyplot as plt\n",
    "%matplotlib inline\n",
    "import seaborn as sns\n",
    "sns.set()\n",
    "\n",
    "df = pd.read_csv('/Users/sbslee/Desktop/level-6.csv', index_col=0)"
   ]
  },
  {
   "cell_type": "code",
   "execution_count": 9,
   "metadata": {},
   "outputs": [
    {
     "data": {
      "image/png": "[encoded data removed]",
      "text/plain": [
       "<Figure size 720x504 with 1 Axes>"
      ]
     },
     "metadata": {},
     "output_type": "display_data"
    }
   ],
   "source": [
    "qzv_file = '/Users/sbslee/Desktop/dokdo/data/moving-pictures-tutorial/taxa-bar-plots.qzv'\n",
    "dokdo.taxa_abundance_bar_plot(qzv_file,\n",
    "                              figsize=(10, 7),\n",
    "                              level=6,\n",
    "                              count=8,\n",
    "                              legend_short=True,\n",
    "                              artist_kwargs=dict(show_legend=True,\n",
    "                                                 legend_loc='upper left'))\n",
    "plt.tight_layout()\n",
    "plt.savefig('Input_Visualization.png')"
   ]
  },
  {
   "cell_type": "code",
   "execution_count": 6,
   "metadata": {},
   "outputs": [
    {
     "data": {
      "image/png": "[encoded data removed]",
      "text/plain": [
       "<Figure size 720x504 with 1 Axes>"
      ]
     },
     "metadata": {},
     "output_type": "display_data"
    }
   ],
   "source": [
    "dokdo.taxa_abundance_bar_plot(df,\n",
    "                              figsize=(10, 7),\n",
    "                              count=8,\n",
    "                              legend_short=True,\n",
    "                              artist_kwargs=dict(show_legend=True,\n",
    "                                                 legend_loc='upper left'))\n",
    "plt.tight_layout()\n",
    "plt.savefig('Input_DataFrame.png')"
   ]
  },
  {
   "cell_type": "code",
   "execution_count": null,
   "metadata": {},
   "outputs": [],
   "source": [
    "type(df)"
   ]
  },
  {
   "cell_type": "code",
   "execution_count": null,
   "metadata": {},
   "outputs": [],
   "source": []
  }
 ],
 "metadata": {
  "kernelspec": {
   "display_name": "Python 3",
   "language": "python",
   "name": "python3"
  },
  "language_info": {
   "codemirror_mode": {
    "name": "ipython",
    "version": 3
   },
   "file_extension": ".py",
   "mimetype": "text/x-python",
   "name": "python",
   "nbconvert_exporter": "python",
   "pygments_lexer": "ipython3",
   "version": "3.6.11"
  }
 },
 "nbformat": 4,
 "nbformat_minor": 4
}
